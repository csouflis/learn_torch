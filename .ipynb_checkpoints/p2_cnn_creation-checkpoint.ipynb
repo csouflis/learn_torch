{
 "cells": [
  {
   "cell_type": "markdown",
   "id": "loved-wallet",
   "metadata": {},
   "source": [
    "Data is rapidly becoming one of the most valuable resources. Obtaining data and the appropiate data can be difficult, but highly rewarding. For example, imagine capturing multiple types of data on what teaching methods work best for children? However, bad data = bad models. So it is important to understand your data before you get started.\n",
    "\n",
    "Data focused considerations:\n",
    "\n",
    "    Who created the dataset?\n",
    "    How was the dataset created?\n",
    "    What transformations were used?\n",
    "    What intent does the dataset have?\n",
    "    Possible unintentional consequences?\n",
    "    Is the dataset biased?\n",
    "    Are there ethical issues with the dataset?\n"
   ]
  },
  {
   "cell_type": "markdown",
   "id": "thorough-netscape",
   "metadata": {},
   "source": [
    "For this tutorial we will be using the Fashion-MNIST dataset (fashion MNIST dataset has MNIST in it's name is because the creators seek to replace the MNIST with Fashion-MNIST). Look up the MNIST dataset if you don't know what it is. <br><br>\n",
    "Fashion-MNIST is based on the assortment on Zalando's website. Zalando is a German based multi-national fashion commerce company that was founded in 2008. Fashion-MNIST – has 10 classes and same specs (this is intentional so switch from MNIST dataset to Fashion-MNIST).<br><br>\n",
    "We will be accessing Fashion-MNIST though a PyTorch vision library called <code>torchvision</code> and building our first neural network that can accurately predict an output class given an input fashion image. "
   ]
  },
  {
   "cell_type": "markdown",
   "id": "severe-median",
   "metadata": {},
   "source": [
    "# Neural Network Project Overview\n",
    "There are four general steps that we'll be following as we move through this project:\n",
    "\n",
    "   **Prepare the data** <br>\n",
    "   Build the model<br>\n",
    "   Train the model<br>\n",
    "   Analyze the model's results<br>\n"
   ]
  },
  {
   "cell_type": "markdown",
   "id": "included-branch",
   "metadata": {},
   "source": [
    "## Extract, Transform, and Load (ETL) with PyTorch (preparing the data)\n",
    "To prepare our data, we'll be following what is loosely known as an ETL process.\n",
    "\n",
    "    Extract data from a data source.\n",
    "    Transform data into a desirable format.\n",
    "    Load data into a suitable structure.\n",
    "    \n",
    "Or more specifically:\n",
    "    \n",
    "    Extract – Get the Fashion-MNIST image data from the source.\n",
    "    Transform – Put our data into tensor form.\n",
    "    Load – Put our data into an object to make it easily accessible.\n",
    "\n"
   ]
  },
  {
   "cell_type": "code",
   "execution_count": 2,
   "id": "labeled-dublin",
   "metadata": {},
   "outputs": [],
   "source": [
    "import torch\n",
    "import torchvision\n",
    "import torchvision.transforms as transforms #interface giving access for common transformations for image processing"
   ]
  },
  {
   "cell_type": "markdown",
   "id": "precise-circulation",
   "metadata": {},
   "source": [
    "            Class                                    Description\n",
    "    torch.utils.data.Dataset \t    An abstract class for representing a dataset.\n",
    "    torch.utils.data.DataLoader \tWraps a dataset and provides access to the underlying data.\n",
    "\n",
    "An abstract class is a Python class that has methods we must implement, so **we can create a custom dataset by creating a subclass that extends the functionality of the Dataset class.** "
   ]
  },
  {
   "cell_type": "markdown",
   "id": "pretty-heavy",
   "metadata": {},
   "source": [
    "To create a custom dataset using PyTorch, you extend the Dataset class by creating a subclass that implements these required methods. Upon doing this, our new subclass can then be passed to the a PyTorch DataLoader object. <br><br>\n",
    "*The fashion-MNIST dataset comes with torchvision so the above is already baked in.*\n",
    "<br>\n",
    "### All subclasses of the Dataset class must override __len__, that provides the size of the dataset, and __getitem__, supporting integer indexing in range from 0 to len(self) exclusive. "
   ]
  },
  {
   "cell_type": "code",
   "execution_count": 4,
   "id": "artistic-questionnaire",
   "metadata": {},
   "outputs": [
    {
     "name": "stdout",
     "output_type": "stream",
     "text": [
      "Downloading http://fashion-mnist.s3-website.eu-central-1.amazonaws.com/train-images-idx3-ubyte.gz to ./data/FashionMNIST/FashionMNIST/raw/train-images-idx3-ubyte.gz\n"
     ]
    },
    {
     "name": "stderr",
     "output_type": "stream",
     "text": [
      "93.0%IOPub message rate exceeded.\n",
      "The notebook server will temporarily stop sending output\n",
      "to the client in order to avoid crashing it.\n",
      "To change this limit, set the config variable\n",
      "`--NotebookApp.iopub_msg_rate_limit`.\n",
      "\n",
      "Current values:\n",
      "NotebookApp.iopub_msg_rate_limit=1000.0 (msgs/sec)\n",
      "NotebookApp.rate_limit_window=3.0 (secs)\n",
      "\n",
      "100.0%"
     ]
    },
    {
     "name": "stdout",
     "output_type": "stream",
     "text": [
      "Extracting ./data/FashionMNIST/FashionMNIST/raw/t10k-images-idx3-ubyte.gz to ./data/FashionMNIST/FashionMNIST/raw\n",
      "Downloading http://fashion-mnist.s3-website.eu-central-1.amazonaws.com/t10k-labels-idx1-ubyte.gz to ./data/FashionMNIST/FashionMNIST/raw/t10k-labels-idx1-ubyte.gz\n"
     ]
    },
    {
     "name": "stderr",
     "output_type": "stream",
     "text": [
      "159.1%"
     ]
    },
    {
     "name": "stdout",
     "output_type": "stream",
     "text": [
      "Extracting ./data/FashionMNIST/FashionMNIST/raw/t10k-labels-idx1-ubyte.gz to ./data/FashionMNIST/FashionMNIST/raw\n",
      "Processing...\n",
      "Done!\n"
     ]
    },
    {
     "name": "stderr",
     "output_type": "stream",
     "text": [
      "/home/chris/anaconda3/envs/deeplizard/lib/python3.8/site-packages/torchvision/datasets/mnist.py:480: UserWarning: The given NumPy array is not writeable, and PyTorch does not support non-writeable tensors. This means you can write to the underlying (supposedly non-writeable) NumPy array using the tensor. You may want to copy the array to protect its data or make it writeable before converting it to a tensor. This type of warning will be suppressed for the rest of this program. (Triggered internally at  /opt/conda/conda-bld/pytorch_1607369981906/work/torch/csrc/utils/tensor_numpy.cpp:141.)\n",
      "  return torch.from_numpy(parsed.astype(m[2], copy=False)).view(*s)\n"
     ]
    }
   ],
   "source": [
    "train_set = torchvision.datasets.FashionMNIST(\n",
    "    root='./data/FashionMNIST',\n",
    "    train=True,\n",
    "    download=True,\n",
    "    transform=transforms.Compose([transforms.ToTensor()])\n",
    ")"
   ]
  },
  {
   "cell_type": "code",
   "execution_count": 7,
   "id": "becoming-typing",
   "metadata": {},
   "outputs": [],
   "source": [
    "train_loader = torch.utils.data.DataLoader(train_set)"
   ]
  },
  {
   "cell_type": "markdown",
   "id": "latin-arbitration",
   "metadata": {},
   "source": [
    "Extract:\n",
    "<code>train_set = torchvision.datasets.FashionMNIST(\n",
    "    root='./data/FashionMNIST',\n",
    "    train=True,\n",
    "    download=True,</code>\n",
    "<br>\n",
    "<br>\n",
    "Transform:\n",
    "   <code>transform=transforms.Compose([transforms.ToTensor()]</code>\n",
    "<br>\n",
    "   \n",
    "Load:\n",
    "   <code>train_loader = torch.utils.data.DataLoader(train_set)</code>"
   ]
  },
  {
   "cell_type": "code",
   "execution_count": null,
   "id": "intellectual-complaint",
   "metadata": {},
   "outputs": [],
   "source": []
  }
 ],
 "metadata": {
  "kernelspec": {
   "display_name": "Python 3",
   "language": "python",
   "name": "python3"
  },
  "language_info": {
   "codemirror_mode": {
    "name": "ipython",
    "version": 3
   },
   "file_extension": ".py",
   "mimetype": "text/x-python",
   "name": "python",
   "nbconvert_exporter": "python",
   "pygments_lexer": "ipython3",
   "version": "3.8.5"
  }
 },
 "nbformat": 4,
 "nbformat_minor": 5
}
